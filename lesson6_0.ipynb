{
 "cells": [
  {
   "cell_type": "code",
   "execution_count": 1,
   "metadata": {},
   "outputs": [
    {
     "name": "stdout",
     "output_type": "stream",
     "text": [
      "10和8的公因數為:\n",
      "1 2 "
     ]
    }
   ],
   "source": [
    "value1 = int(input(\"請輸入第一個數值:\"))\n",
    "value2 = int(input(\"請輸入第二個數值:\"))\n",
    "\n",
    "(max,min) = (value1,value2) if value1> value2 else (value2,value1)\n",
    "print(f\"{value1}和{value2}的公因數為:\")\n",
    "for g in range(1,min+1):\n",
    "    if max % g == 0 and min % g ==0:\n",
    "        print(g,end = ' ')"
   ]
  }
 ],
 "metadata": {
  "kernelspec": {
   "display_name": "Python 3",
   "language": "python",
   "name": "python3"
  },
  "language_info": {
   "codemirror_mode": {
    "name": "ipython",
    "version": 3
   },
   "file_extension": ".py",
   "mimetype": "text/x-python",
   "name": "python",
   "nbconvert_exporter": "python",
   "pygments_lexer": "ipython3",
   "version": "3.11.9"
  }
 },
 "nbformat": 4,
 "nbformat_minor": 2
}
