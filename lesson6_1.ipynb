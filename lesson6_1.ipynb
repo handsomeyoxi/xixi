{
 "cells": [
  {
   "cell_type": "code",
   "execution_count": 1,
   "metadata": {},
   "outputs": [
    {
     "name": "stdout",
     "output_type": "stream",
     "text": [
      "您已經存了6個月，您的存款為36663元\n"
     ]
    }
   ],
   "source": [
    "deposit = 0\n",
    "month = 0\n",
    "while deposit < 30000:\n",
    "    month += 1\n",
    "    money = int(input(\"請輸入{month}月的存款:\"))\n",
    "    deposit += money\n",
    "print(f\"您已經存了{month}個月，您的存款為{deposit}元\")\n"
   ]
  },
  {
   "cell_type": "code",
   "execution_count": 3,
   "metadata": {},
   "outputs": [
    {
     "name": "stdout",
     "output_type": "stream",
     "text": [
      "Asdfg\n",
      "Japan\n",
      "Q\n",
      "應用程式結束!\n"
     ]
    }
   ],
   "source": [
    "stuff = input(\"請輸入小寫英文字母(按q會離開):\")\n",
    "while not stuff == \"q\":\n",
    "    print(stuff.capitalize())\n",
    "    stuff = input(\"請輸入小寫英文字母(按q會離開):\")\n",
    "print(\"應用程式結束!\")"
   ]
  },
  {
   "cell_type": "code",
   "execution_count": 5,
   "metadata": {},
   "outputs": [
    {
     "name": "stdout",
     "output_type": "stream",
     "text": [
      "Gg\n",
      "Taiwan\n",
      "Taiwan\n",
      "應用程式結束!\n"
     ]
    }
   ],
   "source": [
    "\n",
    "while True:\n",
    "     stuff = input(\"請輸入小寫英文字母(按q會離開):\")\n",
    "     if stuff == \"q\":\n",
    "          break\n",
    "     print(stuff.capitalize())\n",
    "print(\"應用程式結束!\")"
   ]
  },
  {
   "cell_type": "code",
   "execution_count": 1,
   "metadata": {},
   "outputs": [
    {
     "name": "stdout",
     "output_type": "stream",
     "text": [
      "Jjj\n",
      "應用程式結束!\n"
     ]
    }
   ],
   "source": [
    "\n",
    "while True:\n",
    "     stuff = input(\"請輸入小寫英文字母(按q會離開):\")\n",
    "     if stuff == \"q\":\n",
    "          break\n",
    "     else:\n",
    "         print(stuff.capitalize())\n",
    "         continue\n",
    "print(\"應用程式結束!\")"
   ]
  }
 ],
 "metadata": {
  "kernelspec": {
   "display_name": "Python 3",
   "language": "python",
   "name": "python3"
  },
  "language_info": {
   "codemirror_mode": {
    "name": "ipython",
    "version": 3
   },
   "file_extension": ".py",
   "mimetype": "text/x-python",
   "name": "python",
   "nbconvert_exporter": "python",
   "pygments_lexer": "ipython3",
   "version": "3.11.9"
  }
 },
 "nbformat": 4,
 "nbformat_minor": 2
}
