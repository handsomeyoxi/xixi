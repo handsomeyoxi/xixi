{
 "cells": [
  {
   "cell_type": "code",
   "execution_count": 9,
   "metadata": {},
   "outputs": [
    {
     "name": "stdout",
     "output_type": "stream",
     "text": [
      "成績輸入錯誤!\n"
     ]
    }
   ],
   "source": [
    "try:\n",
    "    grade = int(input(\"請輸入成績:\"))\n",
    "\n",
    "    if (grade < 0 or grade >100):\n",
    "        raise ValueError\n",
    "except ValueError:\n",
    "        print(\"成績輸入錯誤!\")\n",
    "    \n",
    "else:\n",
    "     \n",
    "    if grade > 90:\n",
    "        print(\"水!\")\n",
    "    elif  80 <= grade < 90:\n",
    "        print(\"美賣喔!\")\n",
    "    elif 70 <= grade < 80:\n",
    "         print(\"還行還行!\")\n",
    "    elif 60 <= grade < 70:\n",
    "         print(\"緊張囉老哥!\")\n",
    "    else:\n",
    "         print(\"死當!\")\n",
    "    \n",
    "\n",
    "         \n",
    "\n",
    "\n",
    "\n",
    "\n"
   ]
  }
 ],
 "metadata": {
  "kernelspec": {
   "display_name": "Python 3",
   "language": "python",
   "name": "python3"
  },
  "language_info": {
   "codemirror_mode": {
    "name": "ipython",
    "version": 3
   },
   "file_extension": ".py",
   "mimetype": "text/x-python",
   "name": "python",
   "nbconvert_exporter": "python",
   "pygments_lexer": "ipython3",
   "version": "3.11.9"
  }
 },
 "nbformat": 4,
 "nbformat_minor": 2
}
