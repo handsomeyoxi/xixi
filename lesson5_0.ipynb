{
 "cells": [
  {
   "cell_type": "code",
   "execution_count": 3,
   "metadata": {},
   "outputs": [
    {
     "name": "stdout",
     "output_type": "stream",
     "text": [
      "獎金:0\n"
     ]
    }
   ],
   "source": [
    "chinese = int(input(\"請輸入國文成績:\"))\n",
    "math = int(input(\"請輸入數學成績:\"))\n",
    "\n",
    "if chinese == 100 and math == 100:\n",
    "    bonus = 1000\n",
    "elif chinese == 100 or math == 100:\n",
    "    bonus = 560\n",
    "else:\n",
    "    bonus = 0\n",
    "print(f\"獎金:{bonus}\")\n"
   ]
  },
  {
   "cell_type": "code",
   "execution_count": 6,
   "metadata": {},
   "outputs": [
    {
     "name": "stdout",
     "output_type": "stream",
     "text": [
      "血壓不正常!\n"
     ]
    }
   ],
   "source": [
    "presure = int(input(\"請輸入血壓值:\"))\n",
    "\n",
    "if 80 <= presure <= 120:\n",
    "    print(\"血壓正常!\")\n",
    "else:\n",
    "    print(\"血壓不正常!\")\n",
    "    "
   ]
  },
  {
   "cell_type": "code",
   "execution_count": 7,
   "metadata": {},
   "outputs": [
    {
     "name": "stdout",
     "output_type": "stream",
     "text": [
      "55\n"
     ]
    }
   ],
   "source": [
    "#1~10\n",
    "sum = 0\n",
    "sum += 1\n",
    "sum += 2\n",
    "sum += 3\n",
    "sum += 4\n",
    "sum += 5\n",
    "sum += 6\n",
    "sum += 7\n",
    "sum += 8\n",
    "sum += 9\n",
    "sum += 10\n",
    "print(sum)"
   ]
  }
 ],
 "metadata": {
  "kernelspec": {
   "display_name": "Python 3",
   "language": "python",
   "name": "python3"
  },
  "language_info": {
   "codemirror_mode": {
    "name": "ipython",
    "version": 3
   },
   "file_extension": ".py",
   "mimetype": "text/x-python",
   "name": "python",
   "nbconvert_exporter": "python",
   "pygments_lexer": "ipython3",
   "version": "3.11.9"
  }
 },
 "nbformat": 4,
 "nbformat_minor": 2
}
