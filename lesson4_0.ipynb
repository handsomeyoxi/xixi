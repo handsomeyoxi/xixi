{
 "cells": [
  {
   "cell_type": "code",
   "execution_count": 1,
   "metadata": {},
   "outputs": [
    {
     "name": "stdout",
     "output_type": "stream",
     "text": [
      "您的BMI為:20.91\n"
     ]
    }
   ],
   "source": [
    "name = input(\"請輸入姓名:\")\n",
    "height = float(input(\"請輸入身高(cm):\"))\n",
    "weight = float(input(\"請輸入體重(kg)\"))\n",
    "m = float(height / 100)\n",
    "BMI = round(weight / m**2,ndigits=2)\n",
    "\n",
    "print(\"您的BMI為:\"+str(BMI))\n"
   ]
  }
 ],
 "metadata": {
  "kernelspec": {
   "display_name": "Python 3",
   "language": "python",
   "name": "python3"
  },
  "language_info": {
   "codemirror_mode": {
    "name": "ipython",
    "version": 3
   },
   "file_extension": ".py",
   "mimetype": "text/x-python",
   "name": "python",
   "nbconvert_exporter": "python",
   "pygments_lexer": "ipython3",
   "version": "3.11.9"
  }
 },
 "nbformat": 4,
 "nbformat_minor": 2
}
