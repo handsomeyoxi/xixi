{
 "cells": [
  {
   "cell_type": "code",
   "execution_count": 1,
   "metadata": {},
   "outputs": [
    {
     "name": "stdout",
     "output_type": "stream",
     "text": [
      "您的體重適中!\n",
      "xi的BMI為19.6\n",
      "應用程式結束!\n"
     ]
    }
   ],
   "source": [
    "\n",
    "name = input(\"請輸入姓名:\")\n",
    "try:\n",
    "    height = float(input(\"請輸入身高(cm):\"))\n",
    "\n",
    "    if (height <= 0):\n",
    "       raise ValueError\n",
    "except ValueError:\n",
    "       print(\"身高輸入錯誤!\")\n",
    "else:\n",
    "    try:\n",
    "       weight = float(input(\"請輸入體重(kg)\"))\n",
    "       if (weight <= 0):\n",
    "        raise ValueError\n",
    "    except ValueError:\n",
    "        print(\"體重輸入錯誤!\")\n",
    "    else:\n",
    "        m = float(height / 100)\n",
    "        BMI = round(weight / m**2,ndigits=2)\n",
    " \n",
    "    if BMI < 18.5:\n",
    "        print(\"您的體重過輕!\")\n",
    "    elif 18.5 <= BMI < 24:\n",
    "        print(\"您的體重適中!\")\n",
    "    elif 24 <= BMI < 27:\n",
    "        print(\"您的體重過重!\")\n",
    "    elif 27 <= BMI < 30:\n",
    "        print(\"您的體重為輕度肥胖!\")\n",
    "    elif 30 <= BMI < 35:\n",
    "        print(\"您的體重為中度肥胖!\")\n",
    "    else:\n",
    "        print(\"您的體重為重度肥胖!\")\n",
    "\n",
    "    \n",
    "    \n",
    "\n",
    "print(f\"{name}的BMI為{BMI}\")\n",
    "\n",
    "print(\"應用程式結束!\")\n",
    "\n",
    "\n",
    "\n"
   ]
  }
 ],
 "metadata": {
  "kernelspec": {
   "display_name": "Python 3",
   "language": "python",
   "name": "python3"
  },
  "language_info": {
   "codemirror_mode": {
    "name": "ipython",
    "version": 3
   },
   "file_extension": ".py",
   "mimetype": "text/x-python",
   "name": "python",
   "nbconvert_exporter": "python",
   "pygments_lexer": "ipython3",
   "version": "3.11.9"
  }
 },
 "nbformat": 4,
 "nbformat_minor": 2
}
